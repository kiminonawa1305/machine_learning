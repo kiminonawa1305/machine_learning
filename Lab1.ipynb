{
  "nbformat": 4,
  "nbformat_minor": 0,
  "metadata": {
    "colab": {
      "provenance": [],
      "authorship_tag": "ABX9TyMZPPE2p0C+FyeJSzIf44Oj",
      "include_colab_link": true
    },
    "kernelspec": {
      "name": "python3",
      "display_name": "Python 3"
    },
    "language_info": {
      "name": "python"
    }
  },
  "cells": [
    {
      "cell_type": "markdown",
      "metadata": {
        "id": "view-in-github",
        "colab_type": "text"
      },
      "source": [
        "<a href=\"https://colab.research.google.com/github/kiminonawa1305/machine_learning/blob/main/Lab1.ipynb\" target=\"_parent\"><img src=\"https://colab.research.google.com/assets/colab-badge.svg\" alt=\"Open In Colab\"/></a>"
      ]
    },
    {
      "cell_type": "markdown",
      "source": [],
      "metadata": {
        "id": "vNeLgtPAngck"
      }
    },
    {
      "cell_type": "code",
      "execution_count": 2,
      "metadata": {
        "colab": {
          "base_uri": "https://localhost:8080/"
        },
        "id": "wntK85cyjdjl",
        "outputId": "d6c35995-eb54-4554-cdfe-81ee8a8b07df"
      },
      "outputs": [
        {
          "output_type": "stream",
          "name": "stdout",
          "text": [
            "Nhập vào tổng số lượng số bạn muốn nhập: 5\n",
            "Tổng số lượng phần tử muốn nhập là: 5 phẩn tử.\n",
            "Số thứ 1: 1\n",
            "Số thứ 2: 8\n",
            "Số thứ 3: 2\n",
            "Số thứ 4: 4\n",
            "Số thứ 5: 7\n",
            "[1, 8, 2, 4, 7]\n",
            "Phần tử lớn nhất trong mảng là: 8\n",
            "Phần tử nhỏ nhất trong mảng là: 1\n",
            "Tổng giá trị các phần có trong mảng là: 22\n",
            "Danh sách đã được sắp xết [1, 2, 4, 7, 8]\n"
          ]
        }
      ],
      "source": [
        "amount = int(input(\"Nhập vào tổng số lượng số bạn muốn nhập: \"))\n",
        "print(f'Tổng số lượng phần tử muốn nhập là: {amount} phẩn tử.')\n",
        "array = []\n",
        "for index in range(amount):\n",
        "  array.append(int(input(f'Số thứ {index + 1}: ')))\n",
        "\n",
        "print(array)\n",
        "\n",
        "maxArray = max(array)\n",
        "minArray = min(array)\n",
        "sumArray = sum(array)\n",
        "\n",
        "#Sắp xếp mảng\n",
        "array.sort()\n",
        "\n",
        "print(f'Phần tử lớn nhất trong mảng là: {maxArray}')\n",
        "print(f'Phần tử nhỏ nhất trong mảng là: {minArray}')\n",
        "print(f'Tổng giá trị các phần có trong mảng là: {sumArray}')\n",
        "print(f'Danh sách đã được sắp xết {array}')\n"
      ]
    }
  ]
}