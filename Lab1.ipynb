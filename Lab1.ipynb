{
  "nbformat": 4,
  "nbformat_minor": 0,
  "metadata": {
    "colab": {
      "provenance": [],
      "authorship_tag": "ABX9TyO5PySWM09o2ceIa071pJmC",
      "include_colab_link": true
    },
    "kernelspec": {
      "name": "python3",
      "display_name": "Python 3"
    },
    "language_info": {
      "name": "python"
    }
  },
  "cells": [
    {
      "cell_type": "markdown",
      "metadata": {
        "id": "view-in-github",
        "colab_type": "text"
      },
      "source": [
        "<a href=\"https://colab.research.google.com/github/kiminonawa1305/machine_learning/blob/main/Lab1.ipynb\" target=\"_parent\"><img src=\"https://colab.research.google.com/assets/colab-badge.svg\" alt=\"Open In Colab\"/></a>"
      ]
    },
    {
      "cell_type": "markdown",
      "source": [
        "Task 1.1"
      ],
      "metadata": {
        "id": "vNeLgtPAngck"
      }
    },
    {
      "cell_type": "code",
      "execution_count": 8,
      "metadata": {
        "colab": {
          "base_uri": "https://localhost:8080/"
        },
        "id": "wntK85cyjdjl",
        "outputId": "91f17880-d5df-41ac-8a2b-2c98117436aa"
      },
      "outputs": [
        {
          "output_type": "stream",
          "name": "stdout",
          "text": [
            "Nhập vào tổng số lượng số bạn muốn nhập: 5\n",
            "Tổng số lượng phần tử muốn nhập là: 5 phẩn tử.\n",
            "Số thứ 1: -1\n",
            "Số thứ 2: 3\n",
            "Số thứ 3: -7\n",
            "Số thứ 4: 8\n",
            "Số thứ 5: -10\n",
            "[-1, 3, -7, 8, -10]\n",
            "Phần tử lớn nhất trong mảng là: 8\n",
            "Phần tử nhỏ nhất trong mảng là: -10\n",
            "Tổng giá trị các phần có trong mảng là: -7\n",
            "Danh sách đã được sắp xết [-10, -7, -1, 3, 8]\n",
            "Tổng số âm trong mảng: 3 số\n",
            "Tổng số dương trong mảng: 2 số\n"
          ]
        }
      ],
      "source": [
        "amount = int(input(\"Nhập vào tổng số lượng số bạn muốn nhập: \"))\n",
        "print(f'Tổng số lượng phần tử muốn nhập là: {amount} phẩn tử.')\n",
        "array = []\n",
        "for index in range(amount):\n",
        "  array.append(int(input(f'Số thứ {index + 1}: ')))\n",
        "\n",
        "print(array)\n",
        "\n",
        "maxArray = max(array)\n",
        "minArray = min(array)\n",
        "sumArray = sum(array)\n",
        "\n",
        "#Sắp xếp mảng\n",
        "array.sort()\n",
        "\n",
        "print(f'Phần tử lớn nhất trong mảng là: {maxArray}')\n",
        "print(f'Phần tử nhỏ nhất trong mảng là: {minArray}')\n",
        "print(f'Tổng giá trị các phần có trong mảng là: {sumArray}')\n",
        "print(f'Danh sách đã được sắp xết {array}')\n",
        "\n",
        "totalPositive = 0\n",
        "totalNegative = 0\n",
        "for nunber in array:\n",
        "  if nunber < 0:\n",
        "    totalNegative += 1\n",
        "  elif nunber > 0:\n",
        "    totalPositive += 1\n",
        "\n",
        "\n",
        "print(f'Tổng số âm trong mảng: {totalNegative} số')\n",
        "print(f'Tổng số dương trong mảng: {totalPositive} số')"
      ]
    },
    {
      "cell_type": "markdown",
      "source": [
        "Task 1.2"
      ],
      "metadata": {
        "id": "9RRNGhX463_9"
      }
    },
    {
      "cell_type": "code",
      "source": [
        "def multiplication_n_number(n = 1):\n",
        "  if n == 1:\n",
        "    return 1\n",
        "  else:\n",
        "    return n * multiplication_n_number(n-1)\n",
        "\n",
        "def sum_multiplication_n_number(n = 1):\n",
        "  if n == 1:\n",
        "    return 1\n",
        "  else:\n",
        "     return multiplication_n_number(n) + sum_multiplication_n_number(n-1)\n",
        "\n",
        "print(sum_multiplication_n_number(7))"
      ],
      "metadata": {
        "id": "gIqnho1M650R",
        "colab": {
          "base_uri": "https://localhost:8080/"
        },
        "outputId": "0e6e9d18-1f54-42b4-d95e-509b2efde9f8"
      },
      "execution_count": 9,
      "outputs": [
        {
          "output_type": "stream",
          "name": "stdout",
          "text": [
            "5913\n"
          ]
        }
      ]
    },
    {
      "cell_type": "markdown",
      "source": [
        "Task 1.3"
      ],
      "metadata": {
        "id": "NmoD3bAwNv3Z"
      }
    },
    {
      "cell_type": "code",
      "source": [
        "class Account:\n",
        "    def __init__(self, name, email, country, friends, posts) -> None:\n",
        "        self.name = name\n",
        "        self.email = email\n",
        "        self.country = country\n",
        "        self.friends = friends\n",
        "        self.posts = posts\n",
        "\n",
        "    def get_max_like_post_by_friend(self):\n",
        "        if len(self.friends) == 0:\n",
        "            return None\n",
        "        self.friends.sort(key=lambda friend: friend.__get_max_like_by_post(), reverse=True)\n",
        "        return self.friends[0]\n",
        "\n",
        "    def __get_max_like_by_post(self):\n",
        "        if len(self.posts) == 0:\n",
        "            return 0\n",
        "        self.posts.sort(key=lambda post: post.likes, reverse=True)\n",
        "        return self.posts[0].likes\n",
        "\n",
        "    def has_more_10_posts(self):\n",
        "        if len(self.posts) < 10:\n",
        "            return False\n",
        "        else:\n",
        "            return True\n",
        "\n",
        "    def __str__(self) -> str:\n",
        "        friends_str = \"; \".join(str(friend) for friend in self.friends)\n",
        "        posts_string = \"; \".join(str(post) for post in self.posts)\n",
        "        return f'Name: {self.name}, email: {self.email}, country: {self.country}, friends: {friends_str}, post: {posts_string}, max_like_post: {self.__get_max_like_by_post()}'\n",
        "\n",
        "\n",
        "class AccountManager:\n",
        "    def __init__(self, accounts):\n",
        "        self.accounts = accounts\n",
        "\n",
        "    def group_accounts_by_post_like(self):\n",
        "        result = {True: [], False: []}\n",
        "        for account in self.accounts:\n",
        "            if account.has_more_10_posts():\n",
        "                result[True].append(account)\n",
        "            else:\n",
        "                result[False].append(account)\n",
        "        return result\n",
        "\n",
        "    def filter_accounts(self, country):\n",
        "        result = [account for account in self.accounts if account.country == country]\n",
        "        result.sort(key=lambda account: (-len(account.posts), account.name), reverse=False)\n",
        "        return result\n",
        "\n",
        "    def __str__(self) -> str:\n",
        "        accounts_str = \";\\n\".join(str(account) for account in self.accounts)\n",
        "        return f'accounts: {accounts_str}'\n",
        "\n",
        "\n",
        "class Post:\n",
        "    def __init__(self, content, subject, likes):\n",
        "        self.content = content\n",
        "        self.subject = subject\n",
        "        self.likes = likes\n",
        "\n",
        "    def __str__(self) -> str:\n",
        "        return f'content: {self.content}, subject: {self.subject}, likes: {self.likes}'"
      ],
      "metadata": {
        "id": "h_xlmkNYOAG5"
      },
      "execution_count": 1,
      "outputs": []
    },
    {
      "cell_type": "code",
      "source": [
        "print(\"oke\")\n",
        "post1 = Post(\"content 1\", \"subject 1\", 10)\n",
        "post2 = Post(\"content 2\", \"subject 1\", 2)\n",
        "post3 = Post(\"content 3\", \"subject 1\", 12)\n",
        "\n",
        "post4 = Post(\"content 4\", \"subject 2\", 2)\n",
        "post5 = Post(\"content 5\", \"subject 2\", 9)\n",
        "post6 = Post(\"content 6\", \"subject 2\", 20)\n",
        "post7 = Post(\"content 7\", \"subject 2\", 20)\n",
        "\n",
        "post8 = Post(\"content 8\", \"subject 3\", 12)\n",
        "post9 = Post(\"content 9\", \"subject 3\", 30)\n",
        "post10 = Post(\"content 10\", \"subject 3\", 20)\n",
        "\n",
        "posts1 = [post1, post2, post3]\n",
        "posts2 = [post4, post5, post6, post7]\n",
        "posts3 = [post8, post9, post10]\n",
        "\n",
        "friend1 = Account(\"Name 1\", \"email 1\", \"country 1\", [], posts1)\n",
        "friend2 = Account(\"Name 2\", \"email 2\", \"country 1\", [], posts2)\n",
        "friend3 = Account(\"Name 3\", \"email 3\", \"country 2\", [], posts3)\n",
        "\n",
        "friends = [friend1, friend2, friend3]\n",
        "\n",
        "account1 = Account(\"Name 1\", \"email 1\", \"country 1\", friends, posts1)\n",
        "account2 = Account(\"Name 2\", \"email 2\", \"country 1\", friends, posts2)\n",
        "account3 = Account(\"Name 3\", \"email 3\", \"country 1\", friends, posts3)\n",
        "\n",
        "accounts = [account1, account2, account3]\n",
        "\n",
        "accountManager = AccountManager(accounts)\n",
        "\n",
        "print(f'Max like posts by friends: {account1.get_max_like_post_by_friend()}')\n",
        "\n",
        "for key, accounts in accountManager.group_accounts_by_post_like().items():\n",
        "    accounts_str = \";\\n\".join(str(account) for account in accounts)\n",
        "    print(f'key: {key}, accounts: \\n{accounts_str}')\n",
        "\n",
        "print(\"filter accounts\")\n",
        "for account in accountManager.filter_accounts(\"country 1\"):\n",
        "    print(f'account: {account}')\n"
      ],
      "metadata": {
        "colab": {
          "base_uri": "https://localhost:8080/"
        },
        "id": "0OrT1W3Q0q50",
        "outputId": "791c5d0a-cec1-4079-8250-47e048318cd1"
      },
      "execution_count": 3,
      "outputs": [
        {
          "output_type": "stream",
          "name": "stdout",
          "text": [
            "oke\n",
            "Max like posts by friends: Name: Name 3, email: email 3, country: country 2, friends: , post: content: content 9, subject: subject 3, likes: 30; content: content 10, subject: subject 3, likes: 20; content: content 8, subject: subject 3, likes: 12, max_like_post: 30\n",
            "key: True, accounts: \n",
            "\n",
            "key: False, accounts: \n",
            "Name: Name 1, email: email 1, country: country 1, friends: Name: Name 3, email: email 3, country: country 2, friends: , post: content: content 9, subject: subject 3, likes: 30; content: content 10, subject: subject 3, likes: 20; content: content 8, subject: subject 3, likes: 12, max_like_post: 30; Name: Name 2, email: email 2, country: country 1, friends: , post: content: content 6, subject: subject 2, likes: 20; content: content 7, subject: subject 2, likes: 20; content: content 5, subject: subject 2, likes: 9; content: content 4, subject: subject 2, likes: 2, max_like_post: 20; Name: Name 1, email: email 1, country: country 1, friends: , post: content: content 3, subject: subject 1, likes: 12; content: content 1, subject: subject 1, likes: 10; content: content 2, subject: subject 1, likes: 2, max_like_post: 12, post: content: content 3, subject: subject 1, likes: 12; content: content 1, subject: subject 1, likes: 10; content: content 2, subject: subject 1, likes: 2, max_like_post: 12;\n",
            "Name: Name 2, email: email 2, country: country 1, friends: Name: Name 3, email: email 3, country: country 2, friends: , post: content: content 9, subject: subject 3, likes: 30; content: content 10, subject: subject 3, likes: 20; content: content 8, subject: subject 3, likes: 12, max_like_post: 30; Name: Name 2, email: email 2, country: country 1, friends: , post: content: content 6, subject: subject 2, likes: 20; content: content 7, subject: subject 2, likes: 20; content: content 5, subject: subject 2, likes: 9; content: content 4, subject: subject 2, likes: 2, max_like_post: 20; Name: Name 1, email: email 1, country: country 1, friends: , post: content: content 3, subject: subject 1, likes: 12; content: content 1, subject: subject 1, likes: 10; content: content 2, subject: subject 1, likes: 2, max_like_post: 12, post: content: content 6, subject: subject 2, likes: 20; content: content 7, subject: subject 2, likes: 20; content: content 5, subject: subject 2, likes: 9; content: content 4, subject: subject 2, likes: 2, max_like_post: 20;\n",
            "Name: Name 3, email: email 3, country: country 1, friends: Name: Name 3, email: email 3, country: country 2, friends: , post: content: content 9, subject: subject 3, likes: 30; content: content 10, subject: subject 3, likes: 20; content: content 8, subject: subject 3, likes: 12, max_like_post: 30; Name: Name 2, email: email 2, country: country 1, friends: , post: content: content 6, subject: subject 2, likes: 20; content: content 7, subject: subject 2, likes: 20; content: content 5, subject: subject 2, likes: 9; content: content 4, subject: subject 2, likes: 2, max_like_post: 20; Name: Name 1, email: email 1, country: country 1, friends: , post: content: content 3, subject: subject 1, likes: 12; content: content 1, subject: subject 1, likes: 10; content: content 2, subject: subject 1, likes: 2, max_like_post: 12, post: content: content 9, subject: subject 3, likes: 30; content: content 10, subject: subject 3, likes: 20; content: content 8, subject: subject 3, likes: 12, max_like_post: 30\n",
            "filter accounts\n",
            "account: Name: Name 2, email: email 2, country: country 1, friends: Name: Name 3, email: email 3, country: country 2, friends: , post: content: content 9, subject: subject 3, likes: 30; content: content 10, subject: subject 3, likes: 20; content: content 8, subject: subject 3, likes: 12, max_like_post: 30; Name: Name 2, email: email 2, country: country 1, friends: , post: content: content 6, subject: subject 2, likes: 20; content: content 7, subject: subject 2, likes: 20; content: content 5, subject: subject 2, likes: 9; content: content 4, subject: subject 2, likes: 2, max_like_post: 20; Name: Name 1, email: email 1, country: country 1, friends: , post: content: content 3, subject: subject 1, likes: 12; content: content 1, subject: subject 1, likes: 10; content: content 2, subject: subject 1, likes: 2, max_like_post: 12, post: content: content 6, subject: subject 2, likes: 20; content: content 7, subject: subject 2, likes: 20; content: content 5, subject: subject 2, likes: 9; content: content 4, subject: subject 2, likes: 2, max_like_post: 20\n",
            "account: Name: Name 1, email: email 1, country: country 1, friends: Name: Name 3, email: email 3, country: country 2, friends: , post: content: content 9, subject: subject 3, likes: 30; content: content 10, subject: subject 3, likes: 20; content: content 8, subject: subject 3, likes: 12, max_like_post: 30; Name: Name 2, email: email 2, country: country 1, friends: , post: content: content 6, subject: subject 2, likes: 20; content: content 7, subject: subject 2, likes: 20; content: content 5, subject: subject 2, likes: 9; content: content 4, subject: subject 2, likes: 2, max_like_post: 20; Name: Name 1, email: email 1, country: country 1, friends: , post: content: content 3, subject: subject 1, likes: 12; content: content 1, subject: subject 1, likes: 10; content: content 2, subject: subject 1, likes: 2, max_like_post: 12, post: content: content 3, subject: subject 1, likes: 12; content: content 1, subject: subject 1, likes: 10; content: content 2, subject: subject 1, likes: 2, max_like_post: 12\n",
            "account: Name: Name 3, email: email 3, country: country 1, friends: Name: Name 3, email: email 3, country: country 2, friends: , post: content: content 9, subject: subject 3, likes: 30; content: content 10, subject: subject 3, likes: 20; content: content 8, subject: subject 3, likes: 12, max_like_post: 30; Name: Name 2, email: email 2, country: country 1, friends: , post: content: content 6, subject: subject 2, likes: 20; content: content 7, subject: subject 2, likes: 20; content: content 5, subject: subject 2, likes: 9; content: content 4, subject: subject 2, likes: 2, max_like_post: 20; Name: Name 1, email: email 1, country: country 1, friends: , post: content: content 3, subject: subject 1, likes: 12; content: content 1, subject: subject 1, likes: 10; content: content 2, subject: subject 1, likes: 2, max_like_post: 12, post: content: content 9, subject: subject 3, likes: 30; content: content 10, subject: subject 3, likes: 20; content: content 8, subject: subject 3, likes: 12, max_like_post: 30\n"
          ]
        }
      ]
    }
  ]
}